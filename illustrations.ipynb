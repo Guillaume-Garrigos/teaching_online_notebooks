{
 "cells": [
  {
   "cell_type": "markdown",
   "metadata": {},
   "source": [
    "# Illustrations pour le cours d'optimisation\n",
    "\n",
    "On essaie pour commencer de tracer quelques quadratiques avec pour Hessienne:\n",
    "\n",
    "\\begin{equation*}\n",
    "    \\begin{pmatrix}\n",
    "        2&0\\\\0&1\n",
    "    \\end{pmatrix}\n",
    "    \\begin{pmatrix}\n",
    "        1&0\\\\0&0\n",
    "    \\end{pmatrix}\n",
    "    \\begin{pmatrix}\n",
    "        1&0\\\\0&-1\n",
    "    \\end{pmatrix}\n",
    "\\end{equation*}"
   ]
  },
  {
   "cell_type": "code",
   "execution_count": null,
   "metadata": {},
   "outputs": [],
   "source": [
    "import numpy as np\n",
    "import matplotlib.pyplot as plt"
   ]
  },
  {
   "cell_type": "code",
   "execution_count": null,
   "metadata": {},
   "outputs": [],
   "source": [
    "%matplotlib widget"
   ]
  },
  {
   "cell_type": "markdown",
   "metadata": {},
   "source": [
    "# Widget interactif pour voir les quadratiques\n",
    "\n",
    "On peut manipuler le graphe d'une fonction quadratique $ f(x) = \\frac{1}{2}\\langle Ax,x \\rangle + \\langle b,x \\rangle$, et changer la valeur de $A$ et $b$ à la volée.\n",
    "\n",
    "On peut aussi:\n",
    "- voir les sous niveaux de la fonction avec l'option `levelset=True`\n",
    "- voir le champ de gradient avec `gradient=True`\n",
    "- voir le flot gradient avec `flow=True`\n",
    "- voir le graphe avec `graph=True`\n",
    "- simuler les itérés de l'algorithme du gradient avec `algo=gradient`"
   ]
  },
  {
   "cell_type": "code",
   "execution_count": null,
   "metadata": {},
   "outputs": [],
   "source": [
    "from nice_functions import widget_quadratic"
   ]
  },
  {
   "cell_type": "code",
   "execution_count": null,
   "metadata": {},
   "outputs": [],
   "source": [
    "widget_quadratic(algo='gradient', levelset=True)"
   ]
  },
  {
   "cell_type": "markdown",
   "metadata": {},
   "source": [
    "# Afficher n'importe quelle fonction \n",
    "\n",
    "On peut reproduire ce genre de graphes avec n'importe quelle fonction (sauf qu'on aura pas les sliders pour les paramètres, ceci n'existe pas en général). Quoique pour les algorithmes ce serait faisable."
   ]
  },
  {
   "cell_type": "code",
   "execution_count": null,
   "metadata": {},
   "outputs": [],
   "source": [
    "import numpy as np\n",
    "import matplotlib.pyplot as plt"
   ]
  },
  {
   "cell_type": "code",
   "execution_count": null,
   "metadata": {},
   "outputs": [],
   "source": [
    "from nice_functions import plot2d_function, quadratic"
   ]
  },
  {
   "cell_type": "code",
   "execution_count": null,
   "metadata": {},
   "outputs": [],
   "source": [
    "A = np.random.randn(2,2)\n",
    "f = quadratic(A)\n",
    "f(1,2) # évalue la fonction f"
   ]
  },
  {
   "cell_type": "code",
   "execution_count": null,
   "metadata": {},
   "outputs": [],
   "source": [
    "plt.figure()\n",
    "plot2d_function(f, graph=True, levelset=True)"
   ]
  },
  {
   "cell_type": "markdown",
   "metadata": {},
   "source": [
    "Ici on a utilisé la fonction `quadratic(A)` qui est déjà implémentée. Mais on peut la remplacer avec n'impote quoi:"
   ]
  },
  {
   "cell_type": "code",
   "execution_count": null,
   "metadata": {},
   "outputs": [],
   "source": [
    "def Rosenbrock():\n",
    "    # returns the Rosenbrock function\n",
    "    def func(x,y, gradient=None):\n",
    "        if gradient is None:\n",
    "            return (1-x)**2 + 10*(y-x**2)**2\n",
    "        else:\n",
    "            dx = 2*(x-1) + 40*(x**2-y)\n",
    "            dy = 20*(y-x**2)\n",
    "            return ( dx, dy )\n",
    "    return func"
   ]
  },
  {
   "cell_type": "code",
   "execution_count": null,
   "metadata": {},
   "outputs": [],
   "source": [
    "f = Rosenbrock()\n",
    "f(1,1) # le minimum\n",
    "f(0,0)"
   ]
  },
  {
   "cell_type": "code",
   "execution_count": null,
   "metadata": {},
   "outputs": [],
   "source": [
    "box = [[-2,2],[-1,5]]\n",
    "plt.figure()\n",
    "plot2d_function(f, graph=True, levelset=True, \n",
    "                algo='gradient', x0=(0,0), iter_max=10000, stepsize=0.04,\n",
    "                plot_box=box, zlim=(0,250), # parameters stolen from Wikipedia\n",
    "                levels_number=20, style='')"
   ]
  },
  {
   "cell_type": "code",
   "execution_count": null,
   "metadata": {},
   "outputs": [],
   "source": []
  }
 ],
 "metadata": {
  "kernelspec": {
   "display_name": "Python 3",
   "language": "python",
   "name": "python3"
  },
  "language_info": {
   "codemirror_mode": {
    "name": "ipython",
    "version": 3
   },
   "file_extension": ".py",
   "mimetype": "text/x-python",
   "name": "python",
   "nbconvert_exporter": "python",
   "pygments_lexer": "ipython3",
   "version": "3.7.6"
  }
 },
 "nbformat": 4,
 "nbformat_minor": 4
}
